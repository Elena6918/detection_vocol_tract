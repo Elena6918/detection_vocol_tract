{
 "cells": [
  {
   "cell_type": "code",
   "execution_count": 22,
   "metadata": {},
   "outputs": [],
   "source": [
    "import numpy as np\n",
    "import pymongo\n",
    "import pandas as pd\n",
    "from scipy.stats import ks_2samp, describe, skew\n",
    "import matplotlib.pyplot as plt\n",
    "from multiprocessing import Pool\n",
    "from tqdm import tqdm\n",
    "import copy\n",
    "import seaborn as sns\n",
    "from scipy import stats\n",
    "from ast import literal_eval\n",
    "import random"
   ]
  },
  {
   "cell_type": "code",
   "execution_count": 30,
   "metadata": {},
   "outputs": [
    {
     "name": "stdout",
     "output_type": "stream",
     "text": [
      "Timit done...\n",
      "DB loaded...\n"
     ]
    }
   ],
   "source": [
    "#read in timit_master\n",
    "gw_dir = '/home/logan/drive/Research/guesswho18/'     #hive\n",
    "#gw_dir = '/User/logan/Gogle_Drive/Research/guesswho18/'     #iMac\n",
    "\n",
    "df_timit = pd.read_csv(gw_dir + 'data/timit_master.csv', sep=',',\n",
    "       dtype = {\n",
    "           'start_word' : np.int,\n",
    "           'end_word': np.int,\n",
    "           'word': np.str,\n",
    "           'sample_id': np.str,\n",
    "           'speaker_id': np.str,\n",
    "           'start_phoneme': np.int,\n",
    "           'end_phoneme': np.int,\n",
    "           'arpabet': np.str,\n",
    "           'ipa': str,\n",
    "           'filename': np.str,\n",
    "           'index_phoneme': np.int\n",
    "       })\n",
    "print(\"Timit done...\")\n",
    "\n",
    "#load mongodb\n",
    "#connect to mongoDB\n",
    "myclient = pymongo.MongoClient(\"mongodb://localhost:27017/\")\n",
    "db = myclient[\"exploration\"]\n",
    "table = db['uniform_timit_train']\n",
    "run_name = 'uniform'\n",
    "\n",
    "#move mongo db over to pandas dataframe\n",
    "cursor = table.find()\n",
    "df = pd.DataFrame(list(cursor))\n",
    "df = df.drop(columns='_id')\n",
    "print(\"DB loaded...\")"
   ]
  },
  {
   "cell_type": "code",
   "execution_count": 37,
   "metadata": {},
   "outputs": [],
   "source": [
    "#limit speakers to those in mongodb\n",
    "df_timit = df_timit[df_timit.filepath.isin(df.filepath.unique())]\n",
    "\n",
    "grouped = df_timit.groupby('filepath')\n",
    "possible_fakes = []\n",
    "for key, group in grouped:\n",
    "    #check if group has more than 10 words\n",
    "    if group[['start_word', 'word']].drop_duplicates().count()[0] >= 10:\n",
    "        #add key to my possible fake files\n",
    "        possible_fakes.append(key)"
   ]
  },
  {
   "cell_type": "code",
   "execution_count": 38,
   "metadata": {},
   "outputs": [],
   "source": [
    "random.seed(1593)\n",
    "with open('fake_generation_dataset.txt', 'w') as f:\n",
    "    for row in random.sample(possible_fakes, 100):\n",
    "        f.write(row)\n",
    "        f.write('\\n')"
   ]
  },
  {
   "cell_type": "code",
   "execution_count": 36,
   "metadata": {},
   "outputs": [
    {
     "data": {
      "text/plain": [
       "array(['FSMA0', 'MKLS0', 'MRWS0', 'FCYL0', 'FDNC0', 'FMJB0', 'FMKF0',\n",
       "       'MJEB0', 'MKAH0', 'MMDS0', 'MRGS0', 'MRJH0', 'FALK0', 'FDJH0',\n",
       "       'FSKC0', 'MDBB1', 'MDEF0', 'MDLH0', 'MDNS0', 'MGAF0', 'MHJB0',\n",
       "       'MLNS0', 'MRJB1', 'FCAG0', 'FJWB1', 'MJEE0', 'MJLS0', 'MTRC0',\n",
       "       'MTRT0', 'FEXM0', 'FGDP0', 'MDSJ0', 'MGSH0', 'MJDM0', 'MJRG0',\n",
       "       'MMVP0', 'MPMB0', 'MRML0', 'MTDP0', 'FBCH0', 'FJDM2', 'MSDS0',\n",
       "       'FCRZ0', 'MBOM0', 'MDLR1', 'MGAK0', 'MRMG0', 'MVRW0', 'MMPM0'],\n",
       "      dtype=object)"
      ]
     },
     "execution_count": 36,
     "metadata": {},
     "output_type": "execute_result"
    }
   ],
   "source": []
  },
  {
   "cell_type": "code",
   "execution_count": null,
   "metadata": {},
   "outputs": [],
   "source": []
  }
 ],
 "metadata": {
  "kernelspec": {
   "display_name": "Python 3",
   "language": "python",
   "name": "python3"
  },
  "language_info": {
   "codemirror_mode": {
    "name": "ipython",
    "version": 3
   },
   "file_extension": ".py",
   "mimetype": "text/x-python",
   "name": "python",
   "nbconvert_exporter": "python",
   "pygments_lexer": "ipython3",
   "version": "3.7.3"
  }
 },
 "nbformat": 4,
 "nbformat_minor": 4
}
