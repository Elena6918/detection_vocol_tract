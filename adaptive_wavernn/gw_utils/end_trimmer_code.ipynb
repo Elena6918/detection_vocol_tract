{
 "cells": [
  {
   "cell_type": "code",
   "execution_count": 8,
   "metadata": {},
   "outputs": [
    {
     "name": "stdout",
     "output_type": "stream",
     "text": [
      "Data directory location: /Users/vargas/Desktop/mounts/kramerdata/guesswho/\n"
     ]
    }
   ],
   "source": [
    "from __future__ import print_function\n",
    "import sys,os\n",
    "import wave\n",
    "import matplotlib.pyplot as plt\n",
    "import scipy.signal as signal\n",
    "from scipy.fftpack import fft\n",
    "from scipy.io import wavfile # get the api\n",
    "import pandas as pd\n",
    "import seaborn as sns\n",
    "import numpy as np\n",
    "import sklearn\n",
    "from tqdm import tqdm\n",
    "%matplotlib inline\n",
    "sns.set_style('whitegrid')\n",
    "# import config \n",
    "import warnings\n",
    "warnings.filterwarnings('ignore')\n",
    "\n",
    "\n",
    "ng = u'\\u014b'\n",
    "n = 'n'\n",
    "m = 'm'\n",
    "ng_encoded = unichr(331).encode('utf-8')\n",
    "nasal_phonemes = [ng, ng_encoded, m, n]\n",
    "\n",
    "\n",
    "DATA_DIR = '/home/lvargas/shared/audio/guesswho/'\n",
    "if sys.platform == 'darwin':\n",
    "    DATA_DIR = '/Users/vargas/Desktop/mounts/kramerdata/guesswho/'\n",
    "    \n",
    "print('Data directory location: %s' % DATA_DIR)\n",
    "    \n",
    "def data_path(path):\n",
    "    return os.path.join(DATA_DIR, path)"
   ]
  },
  {
   "cell_type": "code",
   "execution_count": 2,
   "metadata": {},
   "outputs": [],
   "source": [
    "df_acoustic = pd.read_csv(data_path('master_acoustic.csv'), sep=',',\n",
    "       dtype = {\n",
    "           'word' : np.str,\n",
    "           'valid': np.str,\n",
    "           'word_starttime': np.float64,\n",
    "           'word_endtime': np.float64,\n",
    "           'offset': np.float64,\n",
    "           'duration': np.float64,\n",
    "           'arpabet': np.str,\n",
    "           'ipa': unicode,\n",
    "           'phoneme_start': np.float64,\n",
    "           'phoneme_end': np.float64,\n",
    "           'filename': np.str,\n",
    "           'sentence_number': np.float64,\n",
    "           'global_path' : np.str,\n",
    "           'sex' : np.str,\n",
    "           'accent' :np.str,\n",
    "           'id' : np.int\n",
    "       })\n",
    "\n",
    "df_praat = pd.read_csv(data_path('master_praat.csv'), sep=',',\n",
    "       dtype = {\n",
    "           'time': np.float64,\n",
    "           'f1': np.float64,\n",
    "           'f2': np.float64,\n",
    "           'f3': np.float64,\n",
    "           'sentence_number': np.float64,\n",
    "           'global_path': np.str,\n",
    "            'sex' : np.str,\n",
    "           'accent' :np.str,\n",
    "           'id' : np.int\n",
    "       })\n",
    "\n",
    "df_physical = pd.read_csv(data_path('master_physical.csv'), sep=',',na_values='-',\n",
    "       dtype = {\n",
    "           'id' : np.int,\n",
    "           'sex' : np.str,\n",
    "           'file' : np.str,\n",
    "           'height' : np.float64,\n",
    "           'face_height': np.float64,\n",
    "           'pupil_height': np.float64,\n",
    "           'interpupilary_dist': np.float64,\n",
    "           'mouth_width': np.float64,\n",
    "           'jaw_angle_width': np.float64,\n",
    "           'eye_width': np.float64,\n",
    "           'eye_height': np.float64,\n",
    "           'mouth_height': np.float64,\n",
    "           'lip_thickness': np.float64,\n",
    "           'brow_height' : np.float64,\n",
    "           'nose_height' : np.float64,\n",
    "           'nose_width' : np.float64,\n",
    "           'nose_depth' : np.float64\n",
    "       })\n",
    "\n",
    "\n",
    "df_voice = pd.read_csv(data_path('master_voice.csv'), sep=',',\n",
    "       dtype = {\n",
    "           'word' : np.str,\n",
    "           'valid': np.str,\n",
    "           'word_starttime': np.float64,\n",
    "           'word_endtime': np.float64,\n",
    "           'offset': np.float64,\n",
    "           'duration': np.float64,\n",
    "           'arpabet': np.str,\n",
    "           'ipa': unicode,\n",
    "           'phoneme_start': np.float64,\n",
    "           'phoneme_end': np.float64,\n",
    "           'filename': np.str,\n",
    "           'sentence_number': np.float64,\n",
    "           'global_path' : np.str,\n",
    "           'sex' : np.str,\n",
    "           'accent' :np.str,\n",
    "           'id' : np.int,\n",
    "           'time': np.float64,\n",
    "           'f1': np.float64,\n",
    "           'f2': np.float64,\n",
    "           'f3': np.float64,\n",
    "       })\n"
   ]
  },
  {
   "cell_type": "code",
   "execution_count": 9,
   "metadata": {},
   "outputs": [
    {
     "name": "stderr",
     "output_type": "stream",
     "text": [
      "100%|██████████| 2066/2066 [22:08<00:00,  2.28it/s]\n"
     ]
    }
   ],
   "source": [
    "df_voice['trim_ends'] = True\n",
    "df_voice['step_difference'] = df_voice['phoneme_end'].shift(-1) - df_voice['phoneme_end']\n",
    "\n",
    "\n",
    "for group, val in tqdm(df_voice.groupby(['id','sentence_number'])):\n",
    "#     print(list(val.index.values))\n",
    "    rows_removed = 2\n",
    "    trim = 0\n",
    "    row_indexes = list(val.index.values)\n",
    "    for list_index,row_index in enumerate(row_indexes):\n",
    "        # This trims the start of a phoneme\n",
    "        if trim < rows_removed:\n",
    "            df_voice.loc[row_index, 'trim_ends'] = False\n",
    "            trim += 1\n",
    "\n",
    "        # if this value is greater than 0, then the next row is the start\n",
    "        # of another phoneme. This means that we need to start trimming the\n",
    "        # end\n",
    "        if df_voice.loc[row_index,'step_difference'] > 0:\n",
    "            for idx in row_indexes[list_index - rows_removed +1 : list_index+1]:\n",
    "#                 print(idx)\n",
    "                df_voice.loc[idx, 'trim_ends'] = False\n",
    "            trim = 0"
   ]
  },
  {
   "cell_type": "code",
   "execution_count": null,
   "metadata": {},
   "outputs": [],
   "source": [
    "df.columns"
   ]
  },
  {
   "cell_type": "code",
   "execution_count": null,
   "metadata": {},
   "outputs": [],
   "source": [
    "df = df_voice[(df_voice['id'] == 1) & (df_voice['sentence_number'] == 1)]\n",
    "\n",
    "df['step_difference'] = df['phoneme_end'].shift(-1) - df['phoneme_end']\n",
    "df['trim_ends'] = True\n",
    "df = df[['time','sentence_number','word','ipa','phoneme_start','phoneme_end','word_starttime','word_endtime','step_difference','trim_ends']]\n"
   ]
  },
  {
   "cell_type": "code",
   "execution_count": null,
   "metadata": {
    "scrolled": true
   },
   "outputs": [],
   "source": [
    "def trim_phone_ends(df, rows_trimmed):\n",
    "    df['trim_ends'] = True\n",
    "    \n",
    "\n",
    "\n",
    "    #         print(row_index, df.loc[row_index,'step_difference'])\n",
    "\n",
    "#         print(list_index)\n",
    "        \n"
   ]
  }
 ],
 "metadata": {
  "kernelspec": {
   "display_name": "Python 2",
   "language": "python",
   "name": "python2"
  },
  "language_info": {
   "codemirror_mode": {
    "name": "ipython",
    "version": 2
   },
   "file_extension": ".py",
   "mimetype": "text/x-python",
   "name": "python",
   "nbconvert_exporter": "python",
   "pygments_lexer": "ipython2",
   "version": "2.7.15"
  }
 },
 "nbformat": 4,
 "nbformat_minor": 2
}
