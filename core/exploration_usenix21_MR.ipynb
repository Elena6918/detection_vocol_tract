{
 "cells": [
  {
   "cell_type": "markdown",
   "id": "a05a4b59-40ed-474d-83b8-1bf162570f0f",
   "metadata": {},
   "source": [
    "# USENIX MAJOR REVISION SCRATCHPAD\n",
    "Author: Logan Blue\n",
    "Date: June 2, 2021"
   ]
  },
  {
   "cell_type": "code",
   "execution_count": 1,
   "id": "08824839-c87c-47ff-924e-d8a9b6066ba6",
   "metadata": {},
   "outputs": [],
   "source": [
    "import pandas \n",
    "import seaborn as sns\n",
    "import pickle\n"
   ]
  },
  {
   "cell_type": "code",
   "execution_count": 2,
   "id": "73250c4e-a1ab-45d0-96a8-cb001c8e7440",
   "metadata": {},
   "outputs": [],
   "source": [
    "with open('df_results.pkl', 'rb') as f:\n",
    "    df_results = pickle.load(f)"
   ]
  },
  {
   "cell_type": "code",
   "execution_count": 3,
   "id": "21a1852c-4ee6-45ab-8579-2624ba9daac4",
   "metadata": {},
   "outputs": [
    {
     "data": {
      "text/html": [
       "<div>\n",
       "<style scoped>\n",
       "    .dataframe tbody tr th:only-of-type {\n",
       "        vertical-align: middle;\n",
       "    }\n",
       "\n",
       "    .dataframe tbody tr th {\n",
       "        vertical-align: top;\n",
       "    }\n",
       "\n",
       "    .dataframe thead th {\n",
       "        text-align: right;\n",
       "    }\n",
       "</style>\n",
       "<table border=\"1\" class=\"dataframe\">\n",
       "  <thead>\n",
       "    <tr style=\"text-align: right;\">\n",
       "      <th></th>\n",
       "      <th>index</th>\n",
       "      <th>filepath</th>\n",
       "      <th>dataset</th>\n",
       "      <th>area_index</th>\n",
       "      <th>min</th>\n",
       "      <th>max</th>\n",
       "      <th>start_bigram</th>\n",
       "      <th>end_bigram</th>\n",
       "      <th>window_start</th>\n",
       "      <th>window_end</th>\n",
       "      <th>window_index</th>\n",
       "      <th>breaks_max</th>\n",
       "      <th>breaks_min</th>\n",
       "      <th>max_pred</th>\n",
       "      <th>min_pred</th>\n",
       "    </tr>\n",
       "  </thead>\n",
       "  <tbody>\n",
       "    <tr>\n",
       "      <th>0</th>\n",
       "      <td>0</td>\n",
       "      <td>E:\\SynologyDrive\\Research\\guesswho_new\\guesswh...</td>\n",
       "      <td>fakes</td>\n",
       "      <td>7.0</td>\n",
       "      <td>1.682310</td>\n",
       "      <td>904.179782</td>\n",
       "      <td>24148.661417</td>\n",
       "      <td>25811.425197</td>\n",
       "      <td>26446.314961</td>\n",
       "      <td>27011.314961</td>\n",
       "      <td>2.480315</td>\n",
       "      <td>0.012598</td>\n",
       "      <td>0.088714</td>\n",
       "      <td>True</td>\n",
       "      <td>True</td>\n",
       "    </tr>\n",
       "    <tr>\n",
       "      <th>1</th>\n",
       "      <td>1</td>\n",
       "      <td>E:\\SynologyDrive\\Research\\guesswho_new\\guesswh...</td>\n",
       "      <td>fakes</td>\n",
       "      <td>7.0</td>\n",
       "      <td>1.589533</td>\n",
       "      <td>606.135566</td>\n",
       "      <td>21354.563107</td>\n",
       "      <td>23376.854369</td>\n",
       "      <td>23737.252427</td>\n",
       "      <td>24302.252427</td>\n",
       "      <td>2.766990</td>\n",
       "      <td>0.009061</td>\n",
       "      <td>0.073139</td>\n",
       "      <td>True</td>\n",
       "      <td>True</td>\n",
       "    </tr>\n",
       "    <tr>\n",
       "      <th>2</th>\n",
       "      <td>2</td>\n",
       "      <td>E:\\SynologyDrive\\Research\\guesswho_new\\guesswh...</td>\n",
       "      <td>fakes</td>\n",
       "      <td>7.0</td>\n",
       "      <td>1.818773</td>\n",
       "      <td>181.634507</td>\n",
       "      <td>29609.208633</td>\n",
       "      <td>30989.352518</td>\n",
       "      <td>33086.575540</td>\n",
       "      <td>33651.575540</td>\n",
       "      <td>2.244604</td>\n",
       "      <td>0.021583</td>\n",
       "      <td>0.078657</td>\n",
       "      <td>True</td>\n",
       "      <td>True</td>\n",
       "    </tr>\n",
       "    <tr>\n",
       "      <th>3</th>\n",
       "      <td>3</td>\n",
       "      <td>E:\\SynologyDrive\\Research\\guesswho_new\\guesswh...</td>\n",
       "      <td>fakes</td>\n",
       "      <td>7.0</td>\n",
       "      <td>1.903779</td>\n",
       "      <td>90.120366</td>\n",
       "      <td>20832.307692</td>\n",
       "      <td>22524.615385</td>\n",
       "      <td>24355.115385</td>\n",
       "      <td>24920.115385</td>\n",
       "      <td>4.634615</td>\n",
       "      <td>0.075000</td>\n",
       "      <td>0.115385</td>\n",
       "      <td>True</td>\n",
       "      <td>True</td>\n",
       "    </tr>\n",
       "    <tr>\n",
       "      <th>4</th>\n",
       "      <td>4</td>\n",
       "      <td>E:\\SynologyDrive\\Research\\guesswho_new\\guesswh...</td>\n",
       "      <td>fakes</td>\n",
       "      <td>7.0</td>\n",
       "      <td>1.644400</td>\n",
       "      <td>414.916391</td>\n",
       "      <td>19488.571429</td>\n",
       "      <td>20835.714286</td>\n",
       "      <td>22556.276786</td>\n",
       "      <td>23121.276786</td>\n",
       "      <td>1.839286</td>\n",
       "      <td>0.000000</td>\n",
       "      <td>0.054167</td>\n",
       "      <td>False</td>\n",
       "      <td>True</td>\n",
       "    </tr>\n",
       "  </tbody>\n",
       "</table>\n",
       "</div>"
      ],
      "text/plain": [
       "   index                                           filepath dataset  \\\n",
       "0      0  E:\\SynologyDrive\\Research\\guesswho_new\\guesswh...   fakes   \n",
       "1      1  E:\\SynologyDrive\\Research\\guesswho_new\\guesswh...   fakes   \n",
       "2      2  E:\\SynologyDrive\\Research\\guesswho_new\\guesswh...   fakes   \n",
       "3      3  E:\\SynologyDrive\\Research\\guesswho_new\\guesswh...   fakes   \n",
       "4      4  E:\\SynologyDrive\\Research\\guesswho_new\\guesswh...   fakes   \n",
       "\n",
       "   area_index       min         max  start_bigram    end_bigram  window_start  \\\n",
       "0         7.0  1.682310  904.179782  24148.661417  25811.425197  26446.314961   \n",
       "1         7.0  1.589533  606.135566  21354.563107  23376.854369  23737.252427   \n",
       "2         7.0  1.818773  181.634507  29609.208633  30989.352518  33086.575540   \n",
       "3         7.0  1.903779   90.120366  20832.307692  22524.615385  24355.115385   \n",
       "4         7.0  1.644400  414.916391  19488.571429  20835.714286  22556.276786   \n",
       "\n",
       "     window_end  window_index  breaks_max  breaks_min  max_pred  min_pred  \n",
       "0  27011.314961      2.480315    0.012598    0.088714      True      True  \n",
       "1  24302.252427      2.766990    0.009061    0.073139      True      True  \n",
       "2  33651.575540      2.244604    0.021583    0.078657      True      True  \n",
       "3  24920.115385      4.634615    0.075000    0.115385      True      True  \n",
       "4  23121.276786      1.839286    0.000000    0.054167     False      True  "
      ]
     },
     "execution_count": 3,
     "metadata": {},
     "output_type": "execute_result"
    }
   ],
   "source": [
    "df_results.reset_index(inplace=True)\n",
    "df_results.head()"
   ]
  },
  {
   "cell_type": "code",
   "execution_count": 9,
   "id": "2aa59d5c-aa54-4bfe-a11a-22195d90c131",
   "metadata": {},
   "outputs": [
    {
     "data": {
      "text/plain": [
       "20"
      ]
     },
     "execution_count": 9,
     "metadata": {},
     "output_type": "execute_result"
    }
   ],
   "source": [
    "df_results.filepath.nunique()"
   ]
  },
  {
   "cell_type": "code",
   "execution_count": 7,
   "id": "86bc3e1a-dbe8-40c6-ad3b-3202f58e2c12",
   "metadata": {},
   "outputs": [
    {
     "data": {
      "text/plain": [
       "<AxesSubplot:xlabel='breaks_max', ylabel='Count'>"
      ]
     },
     "execution_count": 7,
     "metadata": {},
     "output_type": "execute_result"
    },
    {
     "data": {
      "image/png": "[encoded data removed]",
      "text/plain": [
       "<Figure size 432x288 with 1 Axes>"
      ]
     },
     "metadata": {
      "needs_background": "light"
     },
     "output_type": "display_data"
    }
   ],
   "source": [
    "sns.histplot(data=df_results, x=\"breaks_max\", hue='dataset', kde=True)"
   ]
  },
  {
   "cell_type": "code",
   "execution_count": 8,
   "id": "0096b551-3af1-4882-8ab6-fb2d5e1f8caf",
   "metadata": {},
   "outputs": [
    {
     "data": {
      "text/plain": [
       "<AxesSubplot:xlabel='breaks_min', ylabel='Count'>"
      ]
     },
     "execution_count": 8,
     "metadata": {},
     "output_type": "execute_result"
    },
    {
     "data": {
      "image/png": "[encoded data removed]",
      "text/plain": [
       "<Figure size 432x288 with 1 Axes>"
      ]
     },
     "metadata": {
      "needs_background": "light"
     },
     "output_type": "display_data"
    }
   ],
   "source": [
    "sns.histplot(data=df_results, x=\"breaks_min\", hue='dataset', kde=True)"
   ]
  },
  {
   "cell_type": "code",
   "execution_count": 10,
   "id": "bfeafd7a-a0e8-4eaa-8594-fab8b39faa91",
   "metadata": {},
   "outputs": [],
   "source": [
    "with open('df_lyrebird_results.pkl', 'rb') as f:\n",
    "    df_results = pickle.load(f)"
   ]
  },
  {
   "cell_type": "code",
   "execution_count": 11,
   "id": "6e7ab34d-c125-434a-866d-f5792dfc83e1",
   "metadata": {},
   "outputs": [
    {
     "data": {
      "text/plain": [
       "<AxesSubplot:xlabel='breaks_max', ylabel='Count'>"
      ]
     },
     "execution_count": 11,
     "metadata": {},
     "output_type": "execute_result"
    },
    {
     "data": {
      "image/png": "[encoded data removed]",
      "text/plain": [
       "<Figure size 432x288 with 1 Axes>"
      ]
     },
     "metadata": {
      "needs_background": "light"
     },
     "output_type": "display_data"
    }
   ],
   "source": [
    "sns.histplot(data=df_results, x=\"breaks_max\", hue='dataset', kde=True)"
   ]
  },
  {
   "cell_type": "code",
   "execution_count": 12,
   "id": "479a931c-c9f0-4cfd-b15f-9023caddec32",
   "metadata": {},
   "outputs": [
    {
     "data": {
      "text/plain": [
       "<AxesSubplot:xlabel='breaks_min', ylabel='Count'>"
      ]
     },
     "execution_count": 12,
     "metadata": {},
     "output_type": "execute_result"
    },
    {
     "data": {
      "image/png": "[encoded data removed]",
      "text/plain": [
       "<Figure size 432x288 with 1 Axes>"
      ]
     },
     "metadata": {
      "needs_background": "light"
     },
     "output_type": "display_data"
    }
   ],
   "source": [
    "sns.histplot(data=df_results, x=\"breaks_min\", hue='dataset', kde=True)"
   ]
  },
  {
   "cell_type": "code",
   "execution_count": 14,
   "id": "92bcb911-84db-4dfb-8024-52ef2e367f29",
   "metadata": {},
   "outputs": [
    {
     "data": {
      "text/html": [
       "<div>\n",
       "<style scoped>\n",
       "    .dataframe tbody tr th:only-of-type {\n",
       "        vertical-align: middle;\n",
       "    }\n",
       "\n",
       "    .dataframe tbody tr th {\n",
       "        vertical-align: top;\n",
       "    }\n",
       "\n",
       "    .dataframe thead th {\n",
       "        text-align: right;\n",
       "    }\n",
       "</style>\n",
       "<table border=\"1\" class=\"dataframe\">\n",
       "  <thead>\n",
       "    <tr style=\"text-align: right;\">\n",
       "      <th></th>\n",
       "      <th>filepath</th>\n",
       "      <th>dataset</th>\n",
       "      <th>area_index</th>\n",
       "      <th>min</th>\n",
       "      <th>max</th>\n",
       "      <th>threshold</th>\n",
       "      <th>recall</th>\n",
       "      <th>precision</th>\n",
       "      <th>start_bigram</th>\n",
       "      <th>end_bigram</th>\n",
       "      <th>window_start</th>\n",
       "      <th>window_end</th>\n",
       "      <th>window_index</th>\n",
       "      <th>breaks_max</th>\n",
       "      <th>breaks_min</th>\n",
       "      <th>max_pred</th>\n",
       "      <th>min_pred</th>\n",
       "    </tr>\n",
       "  </thead>\n",
       "  <tbody>\n",
       "    <tr>\n",
       "      <th>0</th>\n",
       "      <td>/home/logan/SynologyDrive/Research/guesswho_ne...</td>\n",
       "      <td>fakes</td>\n",
       "      <td>7.0</td>\n",
       "      <td>1.744210</td>\n",
       "      <td>509.687484</td>\n",
       "      <td>-0.770654</td>\n",
       "      <td>-0.863583</td>\n",
       "      <td>-0.867120</td>\n",
       "      <td>94692.935323</td>\n",
       "      <td>95586.800995</td>\n",
       "      <td>97035.597015</td>\n",
       "      <td>97600.597015</td>\n",
       "      <td>1.442786</td>\n",
       "      <td>0.096517</td>\n",
       "      <td>0.038143</td>\n",
       "      <td>True</td>\n",
       "      <td>False</td>\n",
       "    </tr>\n",
       "    <tr>\n",
       "      <th>1</th>\n",
       "      <td>/home/logan/SynologyDrive/Research/guesswho_ne...</td>\n",
       "      <td>fakes</td>\n",
       "      <td>7.0</td>\n",
       "      <td>1.805783</td>\n",
       "      <td>478.529695</td>\n",
       "      <td>-0.733851</td>\n",
       "      <td>-0.839377</td>\n",
       "      <td>-0.843595</td>\n",
       "      <td>263286.464088</td>\n",
       "      <td>264234.845304</td>\n",
       "      <td>266147.359116</td>\n",
       "      <td>266712.359116</td>\n",
       "      <td>1.486188</td>\n",
       "      <td>0.079558</td>\n",
       "      <td>0.043831</td>\n",
       "      <td>True</td>\n",
       "      <td>False</td>\n",
       "    </tr>\n",
       "    <tr>\n",
       "      <th>2</th>\n",
       "      <td>/home/logan/SynologyDrive/Research/guesswho_ne...</td>\n",
       "      <td>fakes</td>\n",
       "      <td>7.0</td>\n",
       "      <td>1.679558</td>\n",
       "      <td>308.871127</td>\n",
       "      <td>-0.794026</td>\n",
       "      <td>-0.877152</td>\n",
       "      <td>-0.881026</td>\n",
       "      <td>468285.666667</td>\n",
       "      <td>469266.580808</td>\n",
       "      <td>470469.469697</td>\n",
       "      <td>471034.469697</td>\n",
       "      <td>1.540404</td>\n",
       "      <td>0.085859</td>\n",
       "      <td>0.026936</td>\n",
       "      <td>True</td>\n",
       "      <td>False</td>\n",
       "    </tr>\n",
       "    <tr>\n",
       "      <th>3</th>\n",
       "      <td>/home/logan/SynologyDrive/Research/guesswho_ne...</td>\n",
       "      <td>fakes</td>\n",
       "      <td>7.0</td>\n",
       "      <td>1.765488</td>\n",
       "      <td>323.846842</td>\n",
       "      <td>-0.758955</td>\n",
       "      <td>-0.848464</td>\n",
       "      <td>-0.852746</td>\n",
       "      <td>625355.887500</td>\n",
       "      <td>626430.868750</td>\n",
       "      <td>628064.543750</td>\n",
       "      <td>628629.543750</td>\n",
       "      <td>1.412500</td>\n",
       "      <td>0.087500</td>\n",
       "      <td>0.021250</td>\n",
       "      <td>True</td>\n",
       "      <td>False</td>\n",
       "    </tr>\n",
       "    <tr>\n",
       "      <th>4</th>\n",
       "      <td>/home/logan/SynologyDrive/Research/guesswho_ne...</td>\n",
       "      <td>fakes</td>\n",
       "      <td>7.0</td>\n",
       "      <td>1.650447</td>\n",
       "      <td>185.188178</td>\n",
       "      <td>-0.844603</td>\n",
       "      <td>-0.911772</td>\n",
       "      <td>-0.914024</td>\n",
       "      <td>99557.073171</td>\n",
       "      <td>100635.776423</td>\n",
       "      <td>102430.520325</td>\n",
       "      <td>102995.520325</td>\n",
       "      <td>1.491870</td>\n",
       "      <td>0.009485</td>\n",
       "      <td>0.047967</td>\n",
       "      <td>True</td>\n",
       "      <td>False</td>\n",
       "    </tr>\n",
       "  </tbody>\n",
       "</table>\n",
       "</div>"
      ],
      "text/plain": [
       "                                            filepath dataset  area_index  \\\n",
       "0  /home/logan/SynologyDrive/Research/guesswho_ne...   fakes         7.0   \n",
       "1  /home/logan/SynologyDrive/Research/guesswho_ne...   fakes         7.0   \n",
       "2  /home/logan/SynologyDrive/Research/guesswho_ne...   fakes         7.0   \n",
       "3  /home/logan/SynologyDrive/Research/guesswho_ne...   fakes         7.0   \n",
       "4  /home/logan/SynologyDrive/Research/guesswho_ne...   fakes         7.0   \n",
       "\n",
       "        min         max  threshold    recall  precision   start_bigram  \\\n",
       "0  1.744210  509.687484  -0.770654 -0.863583  -0.867120   94692.935323   \n",
       "1  1.805783  478.529695  -0.733851 -0.839377  -0.843595  263286.464088   \n",
       "2  1.679558  308.871127  -0.794026 -0.877152  -0.881026  468285.666667   \n",
       "3  1.765488  323.846842  -0.758955 -0.848464  -0.852746  625355.887500   \n",
       "4  1.650447  185.188178  -0.844603 -0.911772  -0.914024   99557.073171   \n",
       "\n",
       "      end_bigram   window_start     window_end  window_index  breaks_max  \\\n",
       "0   95586.800995   97035.597015   97600.597015      1.442786    0.096517   \n",
       "1  264234.845304  266147.359116  266712.359116      1.486188    0.079558   \n",
       "2  469266.580808  470469.469697  471034.469697      1.540404    0.085859   \n",
       "3  626430.868750  628064.543750  628629.543750      1.412500    0.087500   \n",
       "4  100635.776423  102430.520325  102995.520325      1.491870    0.009485   \n",
       "\n",
       "   breaks_min  max_pred  min_pred  \n",
       "0    0.038143      True     False  \n",
       "1    0.043831      True     False  \n",
       "2    0.026936      True     False  \n",
       "3    0.021250      True     False  \n",
       "4    0.047967      True     False  "
      ]
     },
     "execution_count": 14,
     "metadata": {},
     "output_type": "execute_result"
    }
   ],
   "source": [
    "df_results.head()"
   ]
  },
  {
   "cell_type": "markdown",
   "id": "00c781a2-140c-476f-97a5-4338ea6c4119",
   "metadata": {},
   "source": [
    "## Creating the asv attack subsets"
   ]
  },
  {
   "cell_type": "code",
   "execution_count": 3,
   "id": "6bcc8c81-88ce-4bb5-83c2-f4728f909899",
   "metadata": {},
   "outputs": [
    {
     "name": "stderr",
     "output_type": "stream",
     "text": [
      "ASV Spoof...: 100%|██████████| 10/10 [06:23<00:00, 38.35s/it]\n"
     ]
    }
   ],
   "source": [
    "#ASV_SPOOF (needs to load multiple mongo collections and then                \n",
    "#concatenate                                                                 \n",
    "#add dataset label   \n",
    "from tqdm import tqdm\n",
    "import pymongo\n",
    "import pandas as pd\n",
    "\n",
    "#load data                                                                       \n",
    "def load_data(table_name, collection_name='exploration'):                        \n",
    "    \"\"\"load the data from a specified table for analysis\"\"\"                      \n",
    "    myclient = pymongo.MongoClient('mongodb://localhost:27017')                  \n",
    "    db = myclient[collection_name]                                               \n",
    "    table = db[table_name]                                                       \n",
    "                                                                                 \n",
    "    return pd.DataFrame(list(table.find()))                                      \n",
    "                                                                                 \n",
    "def process_df(df):                                                              \n",
    "    \"\"\"This function will clean up my dataframe and explore out the different    \n",
    "    cross_sect_est into their own rows\"\"\"                                        \n",
    "    df = df.drop(columns=['_id'])                                                \n",
    "                                                                                 \n",
    "    #explode data                                                                \n",
    "    df_exp = df.explode('cross_sect_est')                                        \n",
    "                                                                                 \n",
    "    #add indices in the cross_sect_est                                           \n",
    "    indices = []                                                                 \n",
    "    for _, row in df.iterrows():                                                 \n",
    "        areas = row['cross_sect_est']                                            \n",
    "        indices += list(range(0, len(areas)))                                    \n",
    "                                                                                 \n",
    "    df_exp['area_index'] = indices                                               \n",
    "                                                                                 \n",
    "    return df_exp  \n",
    "\n",
    "df_asv_sets = ['asv_spoof_b1', 'asv_spoof_b2_100000',                        \n",
    "        'asv_spoof_b2_100k_200k', 'asv_spoof_b2_200k_300k',                  \n",
    "        'asv_spoof_b2_300k_400k', 'asv_spoof_b2_400k_500k',                  \n",
    "        'asv_spoof_b2_500k_600k', 'asv_spoof_b2_600k_700k',                  \n",
    "        'asv_spoof_b2_700k_800k', 'asv_spoof_b2__800k_end']                  \n",
    "                                                                             \n",
    "list_df_asv = []                                                             \n",
    "for name in tqdm(df_asv_sets, position=0, leave=True, desc='ASV Spoof...'):  \n",
    "    list_df_asv.append(process_df(load_data(name))) "
   ]
  },
  {
   "cell_type": "code",
   "execution_count": 5,
   "id": "03f7de08-4f68-4652-8d41-c59ff79b5e34",
   "metadata": {},
   "outputs": [],
   "source": [
    "df_asv = pd.concat(list_df_asv, ignore_index=True)                           \n",
    "df_asv.reset_index(drop=True, inplace=True) \n",
    "pickle.dump(df_asv, open('df_asv.pkl', 'wb'))"
   ]
  },
  {
   "cell_type": "code",
   "execution_count": 6,
   "id": "133f5e83-4037-4f22-9376-cca08fa1b424",
   "metadata": {},
   "outputs": [],
   "source": [
    "#add dataset label                                                           \n",
    "df_asv['dataset'] = 'fakes'                                              \n",
    "df_asv.loc[df_asv.filepath.str.contains('bonafide'), 'dataset'] = 'true'\n",
    "pickle.dump(df_asv, open('df_asv.pkl', 'wb'))"
   ]
  },
  {
   "cell_type": "code",
   "execution_count": 1,
   "id": "11d2f1d5-eb60-44a0-b131-50e30e1fc6b8",
   "metadata": {},
   "outputs": [],
   "source": [
    "import pandas \n",
    "import seaborn as sns\n",
    "import pickle\n"
   ]
  },
  {
   "cell_type": "code",
   "execution_count": 2,
   "id": "705bb394-9f78-436b-92b1-2bd841da3fb2",
   "metadata": {},
   "outputs": [],
   "source": [
    "df_asv = pickle.load(open('df_asv.pkl', 'rb'))"
   ]
  },
  {
   "cell_type": "code",
   "execution_count": 5,
   "id": "0b161b3f-367a-430a-aa8c-10602882c469",
   "metadata": {},
   "outputs": [
    {
     "name": "stderr",
     "output_type": "stream",
     "text": [
      "100%|██████████| 20000000/20000000 [29:16<00:00, 11384.72it/s]\n"
     ]
    }
   ],
   "source": [
    "new_column = []\n",
    "from tqdm import tqdm\n",
    "for index, row in tqdm(df_asv.head(20000000).iterrows(), leave=True, position=0, \n",
    "                       total=20000000):\n",
    "    try:\n",
    "        new_column.append(row.filepath[95:98])\n",
    "    except:\n",
    "        print(index)\n",
    "        print(row.filepath[95:98])\n",
    "        break"
   ]
  },
  {
   "cell_type": "raw",
   "id": "19a5446f-5210-436a-a7d4-5c53992c3fcf",
   "metadata": {},
   "source": [
    "df_asv.head().apply(lambda tmp: tmp.filepath[tmp.filepath[:tmp.filepath.rfind('/')]\\\n",
    "                                .rfind('/')+1:tmp.filepath.rfind('/')], axis=1)"
   ]
  },
  {
   "cell_type": "code",
   "execution_count": 6,
   "id": "87b6dc89-be61-40cd-bd41-2532dca11b0f",
   "metadata": {},
   "outputs": [
    {
     "data": {
      "text/plain": [
       "'A18'"
      ]
     },
     "execution_count": 6,
     "metadata": {},
     "output_type": "execute_result"
    }
   ],
   "source": [
    "'/home/logan/SynologyDrive/Research/Data_Stores/guesswho_fakes/ASV_spoof_usenix/batch_1/LA_0030/A18/LA_E_4540978.wav'[95:98]"
   ]
  },
  {
   "cell_type": "code",
   "execution_count": 2,
   "id": "eeb99332-05bf-4e4a-b1a9-bf068b599727",
   "metadata": {},
   "outputs": [
    {
     "ename": "NameError",
     "evalue": "name 'new_column' is not defined",
     "output_type": "error",
     "traceback": [
      "\u001b[0;31m---------------------------------------------------------------------------\u001b[0m",
      "\u001b[0;31mNameError\u001b[0m                                 Traceback (most recent call last)",
      "\u001b[0;32m<ipython-input-2-f92dae8fa24b>\u001b[0m in \u001b[0;36m<module>\u001b[0;34m\u001b[0m\n\u001b[0;32m----> 1\u001b[0;31m \u001b[0mpickle\u001b[0m\u001b[0;34m.\u001b[0m\u001b[0mdump\u001b[0m\u001b[0;34m(\u001b[0m\u001b[0mnew_column\u001b[0m\u001b[0;34m,\u001b[0m \u001b[0mopen\u001b[0m\u001b[0;34m(\u001b[0m\u001b[0;34m'first_20M.pkl'\u001b[0m\u001b[0;34m,\u001b[0m \u001b[0;34m'wb'\u001b[0m\u001b[0;34m)\u001b[0m\u001b[0;34m)\u001b[0m\u001b[0;34m\u001b[0m\u001b[0;34m\u001b[0m\u001b[0m\n\u001b[0m",
      "\u001b[0;31mNameError\u001b[0m: name 'new_column' is not defined"
     ]
    }
   ],
   "source": [
    "pickle.dump(new_column, open('first_20M.pkl', 'wb'))"
   ]
  },
  {
   "cell_type": "code",
   "execution_count": 7,
   "id": "1c1617de-72eb-4456-ba15-7995393ca678",
   "metadata": {},
   "outputs": [],
   "source": []
  },
  {
   "cell_type": "code",
   "execution_count": 14,
   "id": "a9b91863-cb58-49c4-b533-0b13648a242d",
   "metadata": {},
   "outputs": [
    {
     "name": "stderr",
     "output_type": "stream",
     "text": [
      "100%|██████████| 12394415/12394415 [18:30<00:00, 11160.15it/s]\n"
     ]
    }
   ],
   "source": [
    "new_column_2 = []\n",
    "from tqdm import tqdm\n",
    "for index, row in tqdm(df_asv.iloc[40000000:].iterrows(), leave=True, position=0, \n",
    "                       total=len(df_asv.iloc[40000000:])):\n",
    "    try:\n",
    "        new_column_2.append(row.filepath[95:98])\n",
    "    except:\n",
    "        print(index)\n",
    "        print(row.filepath[95:98])\n",
    "        break"
   ]
  },
  {
   "cell_type": "code",
   "execution_count": 15,
   "id": "c9544b8a-ee8e-454d-ab13-7febd18014cb",
   "metadata": {},
   "outputs": [],
   "source": [
    "pickle.dump(new_column_2, open('40M_up.pkl', 'wb'))"
   ]
  },
  {
   "cell_type": "code",
   "execution_count": 3,
   "id": "e82899c7-120d-45b4-89f6-3c2596f08f70",
   "metadata": {},
   "outputs": [],
   "source": [
    "#combine the new datasets\n",
    "first = pickle.load(open('asv_data_files/first_20M.pkl', 'rb'))\n",
    "second = pickle.load(open('asv_data_files/20M_40M.pkl', 'rb'))\n",
    "third = pickle.load(open('asv_data_files/40M_up.pkl', 'rb'))"
   ]
  },
  {
   "cell_type": "code",
   "execution_count": 4,
   "id": "65b07405-8fd1-4bcf-ace2-5b50ba4ea546",
   "metadata": {},
   "outputs": [
    {
     "data": {
      "text/plain": [
       "52394415"
      ]
     },
     "execution_count": 4,
     "metadata": {},
     "output_type": "execute_result"
    }
   ],
   "source": [
    "total = first + second + third\n",
    "len(total)"
   ]
  },
  {
   "cell_type": "code",
   "execution_count": 5,
   "id": "8f83164c-15d4-4171-8578-f6120e55d685",
   "metadata": {},
   "outputs": [],
   "source": [
    "df_asv['atk_num'] = total"
   ]
  },
  {
   "cell_type": "code",
   "execution_count": 6,
   "id": "74005e0b-bc0e-43ba-91cb-2505fcf9ebd4",
   "metadata": {},
   "outputs": [],
   "source": [
    "pickle.dump(df_asv, open('df_asv_complete.pkl', 'wb'))"
   ]
  },
  {
   "cell_type": "code",
   "execution_count": 9,
   "id": "05401c35-7b12-4236-9fa9-689aee1c4c4f",
   "metadata": {},
   "outputs": [
    {
     "name": "stdout",
     "output_type": "stream",
     "text": [
      "Saving  A07 ...\n",
      "Saving  A08 ...\n",
      "Saving  A09 ...\n",
      "Saving  A10 ...\n",
      "Saving  A11 ...\n",
      "Saving  A12 ...\n",
      "Saving  A13 ...\n",
      "Saving  A14 ...\n",
      "Saving  A15 ...\n",
      "Saving  A16 ...\n",
      "Saving  A17 ...\n",
      "Saving  A18 ...\n",
      "Saving  A19 ...\n",
      "Saving  bon ...\n"
     ]
    }
   ],
   "source": [
    "for key, grp in df_asv.groupby('atk_num'):\n",
    "    #save to pickle file\n",
    "    print(\"Saving \", key, \"...\")\n",
    "    pickle.dump(grp, open('df_asv_' + key + '.pkl', 'wb'))"
   ]
  },
  {
   "cell_type": "code",
   "execution_count": null,
   "id": "5823d966-a178-42fb-ab26-d14bba9a58f4",
   "metadata": {},
   "outputs": [],
   "source": []
  }
 ],
 "metadata": {
  "kernelspec": {
   "display_name": "gen_3.8.0",
   "language": "python",
   "name": "gen_3.8.0"
  },
  "language_info": {
   "codemirror_mode": {
    "name": "ipython",
    "version": 3
   },
   "file_extension": ".py",
   "mimetype": "text/x-python",
   "name": "python",
   "nbconvert_exporter": "python",
   "pygments_lexer": "ipython3",
   "version": "3.8.0"
  }
 },
 "nbformat": 4,
 "nbformat_minor": 5
}
